{
 "cells": [
  {
   "cell_type": "code",
   "execution_count": 3,
   "metadata": {},
   "outputs": [],
   "source": [
    "import pandas as pd\n",
    "import re\n",
    "import urllib.request\n",
    "from bs4 import BeautifulSoup\n",
    "import json\n",
    "import time"
   ]
  },
  {
   "cell_type": "code",
   "execution_count": 4,
   "metadata": {},
   "outputs": [
    {
     "data": {
      "text/html": [
       "<div>\n",
       "<style scoped>\n",
       "    .dataframe tbody tr th:only-of-type {\n",
       "        vertical-align: middle;\n",
       "    }\n",
       "\n",
       "    .dataframe tbody tr th {\n",
       "        vertical-align: top;\n",
       "    }\n",
       "\n",
       "    .dataframe thead th {\n",
       "        text-align: right;\n",
       "    }\n",
       "</style>\n",
       "<table border=\"1\" class=\"dataframe\">\n",
       "  <thead>\n",
       "    <tr style=\"text-align: right;\">\n",
       "      <th></th>\n",
       "      <th>page</th>\n",
       "      <th>url</th>\n",
       "    </tr>\n",
       "  </thead>\n",
       "  <tbody>\n",
       "    <tr>\n",
       "      <th>0</th>\n",
       "      <td>A</td>\n",
       "      <td>https://www.billboard.com/artists/a</td>\n",
       "    </tr>\n",
       "    <tr>\n",
       "      <th>1</th>\n",
       "      <td>B</td>\n",
       "      <td>https://www.billboard.com/artists/b</td>\n",
       "    </tr>\n",
       "    <tr>\n",
       "      <th>2</th>\n",
       "      <td>C</td>\n",
       "      <td>https://www.billboard.com/artists/c</td>\n",
       "    </tr>\n",
       "    <tr>\n",
       "      <th>3</th>\n",
       "      <td>D</td>\n",
       "      <td>https://www.billboard.com/artists/d</td>\n",
       "    </tr>\n",
       "    <tr>\n",
       "      <th>4</th>\n",
       "      <td>E</td>\n",
       "      <td>https://www.billboard.com/artists/e</td>\n",
       "    </tr>\n",
       "  </tbody>\n",
       "</table>\n",
       "</div>"
      ],
      "text/plain": [
       "  page                                  url\n",
       "0    A  https://www.billboard.com/artists/a\n",
       "1    B  https://www.billboard.com/artists/b\n",
       "2    C  https://www.billboard.com/artists/c\n",
       "3    D  https://www.billboard.com/artists/d\n",
       "4    E  https://www.billboard.com/artists/e"
      ]
     },
     "execution_count": 4,
     "metadata": {},
     "output_type": "execute_result"
    }
   ],
   "source": [
    "az_url = pd.read_csv('data/bb_url.csv')\n",
    "az_url.head()"
   ]
  },
  {
   "cell_type": "code",
   "execution_count": 5,
   "metadata": {},
   "outputs": [
    {
     "name": "stdout",
     "output_type": "stream",
     "text": [
      "Processing - Group:  A\n",
      "Processing - Group:  B\n",
      "Processing - Group:  C\n",
      "Processing - Group:  D\n",
      "Processing - Group:  E\n",
      "Processing - Group:  F\n",
      "Processing - Group:  G\n",
      "Processing - Group:  H\n",
      "Processing - Group:  I\n",
      "Processing - Group:  J\n",
      "Processing - Group:  K\n",
      "Processing - Group:  L\n",
      "Processing - Group:  M\n",
      "Processing - Group:  N\n",
      "Processing - Group:  O\n",
      "Processing - Group:  P\n",
      "Processing - Group:  Q\n",
      "Processing - Group:  R\n",
      "Processing - Group:  S\n",
      "Processing - Group:  T\n",
      "Processing - Group:  U\n",
      "Processing - Group:  V\n",
      "Processing - Group:  W\n",
      "Processing - Group:  X\n",
      "Processing - Group:  Y\n",
      "Processing - Group:  Z \n",
      "Processing - Group:  #\n"
     ]
    }
   ],
   "source": [
    "az_url = pd.read_csv('data/bb_url.csv')\n",
    "bb_artist_data = pd.DataFrame(columns=['artist_group', 'artist_category', 'artist_id', 'artist_name', 'artist_url'])\n",
    "\n",
    "idx = 0\n",
    "\n",
    "for index, row in az_url.iterrows():\n",
    "    artist_group = row['page']\n",
    "    url = row['url']\n",
    "    page = urllib.request.urlopen(url, data=None, context=None)\n",
    "    soup = BeautifulSoup(page, \"html.parser\")\n",
    "    \n",
    "    print('Processing - Group: ', artist_group)\n",
    "    \n",
    "    for link in soup.find_all('a'):\n",
    "        if link.get('href') is not None:\n",
    "            if '/music/' in link.get('href'):\n",
    "                artist_category = 'Music'\n",
    "                artist_id = 'n/a'\n",
    "                artist_name = link.string\n",
    "                artist_url = link.get('href')\n",
    "                \n",
    "                bb_artist_data.loc[idx] = [artist_group, artist_category, artist_id, artist_name, artist_url]\n",
    "                idx += 1\n",
    "            elif '/artist/' in link.get('href'):\n",
    "                artist_category = 'Artist'\n",
    "                artist_id = re.findall('\\d+', link.get('href'))[0]\n",
    "                artist_name = link.string\n",
    "                artist_url = link.get('href')\n",
    "\n",
    "                bb_artist_data.loc[idx] = [artist_group, artist_category, artist_id, artist_name, artist_url]\n",
    "                idx += 1\n",
    "    \n",
    "    time.sleep(30)\n",
    "\n",
    "print('Scraping - Done!')"
   ]
  },
  {
   "cell_type": "code",
   "execution_count": 6,
   "metadata": {},
   "outputs": [
    {
     "data": {
      "text/html": [
       "<div>\n",
       "<style scoped>\n",
       "    .dataframe tbody tr th:only-of-type {\n",
       "        vertical-align: middle;\n",
       "    }\n",
       "\n",
       "    .dataframe tbody tr th {\n",
       "        vertical-align: top;\n",
       "    }\n",
       "\n",
       "    .dataframe thead th {\n",
       "        text-align: right;\n",
       "    }\n",
       "</style>\n",
       "<table border=\"1\" class=\"dataframe\">\n",
       "  <thead>\n",
       "    <tr style=\"text-align: right;\">\n",
       "      <th></th>\n",
       "      <th>artist_group</th>\n",
       "      <th>artist_category</th>\n",
       "      <th>artist_id</th>\n",
       "      <th>artist_name</th>\n",
       "      <th>artist_url</th>\n",
       "    </tr>\n",
       "  </thead>\n",
       "  <tbody>\n",
       "    <tr>\n",
       "      <th>0</th>\n",
       "      <td>A</td>\n",
       "      <td>Artist</td>\n",
       "      <td>275128</td>\n",
       "      <td>A B C &amp; D of Boogie Woogie</td>\n",
       "      <td>/artist/275128/b-c-d-boogie-woogie</td>\n",
       "    </tr>\n",
       "    <tr>\n",
       "      <th>1</th>\n",
       "      <td>A</td>\n",
       "      <td>Artist</td>\n",
       "      <td>275133</td>\n",
       "      <td>A Band of Bees</td>\n",
       "      <td>/artist/275133/band-bees</td>\n",
       "    </tr>\n",
       "    <tr>\n",
       "      <th>2</th>\n",
       "      <td>A</td>\n",
       "      <td>Music</td>\n",
       "      <td>n/a</td>\n",
       "      <td>A Band Of Bitches</td>\n",
       "      <td>/music/a-band-of-bitches</td>\n",
       "    </tr>\n",
       "    <tr>\n",
       "      <th>3</th>\n",
       "      <td>A</td>\n",
       "      <td>Music</td>\n",
       "      <td>n/a</td>\n",
       "      <td>A Band Of Bowsies</td>\n",
       "      <td>/music/a-band-of-bowsies</td>\n",
       "    </tr>\n",
       "    <tr>\n",
       "      <th>4</th>\n",
       "      <td>A</td>\n",
       "      <td>Music</td>\n",
       "      <td>n/a</td>\n",
       "      <td>A Bay Bay</td>\n",
       "      <td>/music/a-bay-bay</td>\n",
       "    </tr>\n",
       "  </tbody>\n",
       "</table>\n",
       "</div>"
      ],
      "text/plain": [
       "  artist_group artist_category artist_id                 artist_name  \\\n",
       "0            A          Artist    275128  A B C & D of Boogie Woogie   \n",
       "1            A          Artist    275133              A Band of Bees   \n",
       "2            A           Music       n/a           A Band Of Bitches   \n",
       "3            A           Music       n/a           A Band Of Bowsies   \n",
       "4            A           Music       n/a                   A Bay Bay   \n",
       "\n",
       "                           artist_url  \n",
       "0  /artist/275128/b-c-d-boogie-woogie  \n",
       "1            /artist/275133/band-bees  \n",
       "2            /music/a-band-of-bitches  \n",
       "3            /music/a-band-of-bowsies  \n",
       "4                    /music/a-bay-bay  "
      ]
     },
     "execution_count": 6,
     "metadata": {},
     "output_type": "execute_result"
    }
   ],
   "source": [
    "bb_artist_data.head()"
   ]
  },
  {
   "cell_type": "code",
   "execution_count": 7,
   "metadata": {},
   "outputs": [
    {
     "name": "stdout",
     "output_type": "stream",
     "text": [
      "<class 'pandas.core.frame.DataFrame'>\n",
      "Int64Index: 91541 entries, 0 to 91540\n",
      "Data columns (total 5 columns):\n",
      "artist_group       91541 non-null object\n",
      "artist_category    91541 non-null object\n",
      "artist_id          91541 non-null object\n",
      "artist_name        91541 non-null object\n",
      "artist_url         91541 non-null object\n",
      "dtypes: object(5)\n",
      "memory usage: 4.2+ MB\n"
     ]
    }
   ],
   "source": [
    "bb_artist_data.info()"
   ]
  },
  {
   "cell_type": "code",
   "execution_count": 8,
   "metadata": {},
   "outputs": [
    {
     "name": "stdout",
     "output_type": "stream",
     "text": [
      "Export to CSV - Done\n"
     ]
    }
   ],
   "source": [
    "bb_artist_data.to_csv('data/bb_artist_data.csv', encoding='utf-8', index=False)\n",
    "print('Export to CSV - Done')"
   ]
  },
  {
   "cell_type": "code",
   "execution_count": null,
   "metadata": {},
   "outputs": [],
   "source": []
  }
 ],
 "metadata": {
  "kernelspec": {
   "display_name": "Python 3",
   "language": "python",
   "name": "python3"
  },
  "language_info": {
   "codemirror_mode": {
    "name": "ipython",
    "version": 3
   },
   "file_extension": ".py",
   "mimetype": "text/x-python",
   "name": "python",
   "nbconvert_exporter": "python",
   "pygments_lexer": "ipython3",
   "version": "3.6.5"
  }
 },
 "nbformat": 4,
 "nbformat_minor": 2
}
