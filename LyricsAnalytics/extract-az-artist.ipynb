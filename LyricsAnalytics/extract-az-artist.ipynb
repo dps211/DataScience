{
 "cells": [
  {
   "cell_type": "code",
   "execution_count": 53,
   "metadata": {},
   "outputs": [],
   "source": [
    "import pandas as pd\n",
    "import re\n",
    "import urllib.request\n",
    "from bs4 import BeautifulSoup\n",
    "import json\n",
    "import time"
   ]
  },
  {
   "cell_type": "code",
   "execution_count": 54,
   "metadata": {},
   "outputs": [
    {
     "data": {
      "text/html": [
       "<div>\n",
       "<style scoped>\n",
       "    .dataframe tbody tr th:only-of-type {\n",
       "        vertical-align: middle;\n",
       "    }\n",
       "\n",
       "    .dataframe tbody tr th {\n",
       "        vertical-align: top;\n",
       "    }\n",
       "\n",
       "    .dataframe thead th {\n",
       "        text-align: right;\n",
       "    }\n",
       "</style>\n",
       "<table border=\"1\" class=\"dataframe\">\n",
       "  <thead>\n",
       "    <tr style=\"text-align: right;\">\n",
       "      <th></th>\n",
       "      <th>page</th>\n",
       "      <th>url</th>\n",
       "    </tr>\n",
       "  </thead>\n",
       "  <tbody>\n",
       "    <tr>\n",
       "      <th>0</th>\n",
       "      <td>A</td>\n",
       "      <td>https://www.azlyrics.com/a.html</td>\n",
       "    </tr>\n",
       "    <tr>\n",
       "      <th>1</th>\n",
       "      <td>B</td>\n",
       "      <td>https://www.azlyrics.com/b.html</td>\n",
       "    </tr>\n",
       "    <tr>\n",
       "      <th>2</th>\n",
       "      <td>C</td>\n",
       "      <td>https://www.azlyrics.com/c.html</td>\n",
       "    </tr>\n",
       "    <tr>\n",
       "      <th>3</th>\n",
       "      <td>D</td>\n",
       "      <td>https://www.azlyrics.com/d.html</td>\n",
       "    </tr>\n",
       "    <tr>\n",
       "      <th>4</th>\n",
       "      <td>E</td>\n",
       "      <td>https://www.azlyrics.com/e.html</td>\n",
       "    </tr>\n",
       "  </tbody>\n",
       "</table>\n",
       "</div>"
      ],
      "text/plain": [
       "  page                              url\n",
       "0    A  https://www.azlyrics.com/a.html\n",
       "1    B  https://www.azlyrics.com/b.html\n",
       "2    C  https://www.azlyrics.com/c.html\n",
       "3    D  https://www.azlyrics.com/d.html\n",
       "4    E  https://www.azlyrics.com/e.html"
      ]
     },
     "execution_count": 54,
     "metadata": {},
     "output_type": "execute_result"
    }
   ],
   "source": [
    "az_url = pd.read_csv('data/az_url.csv')\n",
    "az_url.head()"
   ]
  },
  {
   "cell_type": "code",
   "execution_count": 55,
   "metadata": {},
   "outputs": [
    {
     "name": "stdout",
     "output_type": "stream",
     "text": [
      "Processing - Group:  A\n",
      "Processing - Group:  B\n",
      "Processing - Group:  C\n",
      "Processing - Group:  D\n",
      "Processing - Group:  E\n",
      "Processing - Group:  F\n",
      "Processing - Group:  G\n",
      "Processing - Group:  H\n",
      "Processing - Group:  I\n",
      "Processing - Group:  J\n",
      "Processing - Group:  K\n",
      "Processing - Group:  L\n",
      "Processing - Group:  M\n",
      "Processing - Group:  N\n",
      "Processing - Group:  O\n",
      "Processing - Group:  P\n",
      "Processing - Group:  Q\n",
      "Processing - Group:  R\n",
      "Processing - Group:  S\n",
      "Processing - Group:  T\n",
      "Processing - Group:  U\n",
      "Processing - Group:  V\n",
      "Processing - Group:  W\n",
      "Processing - Group:  X\n",
      "Processing - Group:  Y\n",
      "Processing - Group:  Z\n",
      "Processing - Group:  #\n"
     ]
    }
   ],
   "source": [
    "az_url = pd.read_csv('data/azurl.csv')\n",
    "az_artist_data = pd.DataFrame(columns=['artist_group', 'artist_name', 'artist_url'])\n",
    "\n",
    "idx = 0\n",
    "\n",
    "for index, row in az_url.iterrows():\n",
    "    artist_group = row['page']\n",
    "    url = row['url']\n",
    "    page = urllib.request.urlopen(url, data=None, context=None)\n",
    "    soup = BeautifulSoup(page, \"html.parser\")\n",
    "    \n",
    "    print('Processing - Group: ', artist_group)\n",
    "    \n",
    "    for link in soup.find_all('a'):\n",
    "        if link.get('href') is not None:\n",
    "            if 'www' not in link.get('href'):\n",
    "                artist_name = link.string\n",
    "                artist_url = link.get('href')\n",
    "                az_artist_data.loc[idx] = [artist_group, artist_name, artist_url]\n",
    "                idx += 1\n",
    "    \n",
    "    time.sleep(30)\n",
    "\n",
    "print('Scraping - Done!')"
   ]
  },
  {
   "cell_type": "code",
   "execution_count": 56,
   "metadata": {},
   "outputs": [
    {
     "data": {
      "text/html": [
       "<div>\n",
       "<style scoped>\n",
       "    .dataframe tbody tr th:only-of-type {\n",
       "        vertical-align: middle;\n",
       "    }\n",
       "\n",
       "    .dataframe tbody tr th {\n",
       "        vertical-align: top;\n",
       "    }\n",
       "\n",
       "    .dataframe thead th {\n",
       "        text-align: right;\n",
       "    }\n",
       "</style>\n",
       "<table border=\"1\" class=\"dataframe\">\n",
       "  <thead>\n",
       "    <tr style=\"text-align: right;\">\n",
       "      <th></th>\n",
       "      <th>artist_group</th>\n",
       "      <th>artist_name</th>\n",
       "      <th>artist_url</th>\n",
       "    </tr>\n",
       "  </thead>\n",
       "  <tbody>\n",
       "    <tr>\n",
       "      <th>0</th>\n",
       "      <td>A</td>\n",
       "      <td>A1</td>\n",
       "      <td>a/a1.html</td>\n",
       "    </tr>\n",
       "    <tr>\n",
       "      <th>1</th>\n",
       "      <td>A</td>\n",
       "      <td>A</td>\n",
       "      <td>a/a.html</td>\n",
       "    </tr>\n",
       "    <tr>\n",
       "      <th>2</th>\n",
       "      <td>A</td>\n",
       "      <td>Aaliyah</td>\n",
       "      <td>a/aaliyah.html</td>\n",
       "    </tr>\n",
       "    <tr>\n",
       "      <th>3</th>\n",
       "      <td>A</td>\n",
       "      <td>Aalto, Saara</td>\n",
       "      <td>s/saaraaalto.html</td>\n",
       "    </tr>\n",
       "    <tr>\n",
       "      <th>4</th>\n",
       "      <td>A</td>\n",
       "      <td>Aaradhna</td>\n",
       "      <td>a/aaradhna.html</td>\n",
       "    </tr>\n",
       "  </tbody>\n",
       "</table>\n",
       "</div>"
      ],
      "text/plain": [
       "  artist_group   artist_name         artist_url\n",
       "0            A            A1          a/a1.html\n",
       "1            A             A           a/a.html\n",
       "2            A       Aaliyah     a/aaliyah.html\n",
       "3            A  Aalto, Saara  s/saaraaalto.html\n",
       "4            A      Aaradhna    a/aaradhna.html"
      ]
     },
     "execution_count": 56,
     "metadata": {},
     "output_type": "execute_result"
    }
   ],
   "source": [
    "az_artist_data.head()"
   ]
  },
  {
   "cell_type": "code",
   "execution_count": 57,
   "metadata": {},
   "outputs": [
    {
     "name": "stdout",
     "output_type": "stream",
     "text": [
      "<class 'pandas.core.frame.DataFrame'>\n",
      "Int64Index: 11041 entries, 0 to 11040\n",
      "Data columns (total 3 columns):\n",
      "artist_group    11041 non-null object\n",
      "artist_name     11041 non-null object\n",
      "artist_url      11041 non-null object\n",
      "dtypes: object(3)\n",
      "memory usage: 345.0+ KB\n"
     ]
    }
   ],
   "source": [
    "az_artist_data.info()"
   ]
  },
  {
   "cell_type": "code",
   "execution_count": 59,
   "metadata": {},
   "outputs": [
    {
     "name": "stdout",
     "output_type": "stream",
     "text": [
      "Export to CSV - Done\n"
     ]
    }
   ],
   "source": [
    "az_artist_data.to_csv('data/az_artist_data.csv', encoding='utf-8', index=False)\n",
    "print('Export to CSV - Done')"
   ]
  },
  {
   "cell_type": "code",
   "execution_count": null,
   "metadata": {},
   "outputs": [],
   "source": []
  }
 ],
 "metadata": {
  "kernelspec": {
   "display_name": "Python 3",
   "language": "python",
   "name": "python3"
  },
  "language_info": {
   "codemirror_mode": {
    "name": "ipython",
    "version": 3
   },
   "file_extension": ".py",
   "mimetype": "text/x-python",
   "name": "python",
   "nbconvert_exporter": "python",
   "pygments_lexer": "ipython3",
   "version": "3.6.5"
  }
 },
 "nbformat": 4,
 "nbformat_minor": 2
}
